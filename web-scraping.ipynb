{
 "cells": [
  {
   "cell_type": "code",
   "execution_count": 87,
   "metadata": {},
   "outputs": [],
   "source": [
    "# dependencies\n",
    "import pandas as pd\n",
    "import requests\n",
    "from bs4 import BeautifulSoup\n",
    "import re"
   ]
  },
  {
   "cell_type": "code",
   "execution_count": 41,
   "metadata": {},
   "outputs": [],
   "source": [
    "# get the links for the Balance arc episodes\n",
    "balance_page = requests.get(\"https://theadventurezone.fandom.com/wiki/Category:Balance_Arc_Transcript\")\n",
    "balance_soup = BeautifulSoup(balance_page.content)\n",
    "balance_eps = balance_soup.find_all(\"a\", {\"class\":\"category-page__member-link\"})\n",
    "\n",
    "balance_titles = [re.sub(r\"\\/transcript$\", \"\", ep[\"title\"]) for ep in balance_eps]\n",
    "\n",
    "balance_links = [ep[\"href\"] for ep in balance_eps]\n",
    "assert len(balance_links == 69) # nice"
   ]
  },
  {
   "cell_type": "code",
   "execution_count": 42,
   "metadata": {},
   "outputs": [],
   "source": [
    "# get the links for the Balance arc bonus episodes\n",
    "balance_bonus_page = requests.get(\"https://theadventurezone.fandom.com/wiki/Category:Balance_Arc_Bonus_Episodes_Transcript\")\n",
    "balance_bonus_soup = BeautifulSoup(balance_bonus_page.content)\n",
    "balance_bonus_eps = balance_bonus_soup.find_all(\"a\", {\"class\":\"category-page__member-link\"})\n",
    "\n",
    "balance_bonus_links = [ep[\"href\"] for ep in balance_bonus_eps]\n",
    "assert len(balance_bonus_links== 10)"
   ]
  },
  {
   "cell_type": "code",
   "execution_count": 45,
   "metadata": {},
   "outputs": [],
   "source": [
    "all_balance_links = balance_links + balance_bonus_links"
   ]
  },
  {
   "cell_type": "code",
   "execution_count": 86,
   "metadata": {},
   "outputs": [
    {
     "data": {
      "text/plain": [
       "['Ep. 1: Here There Be Gerblins - Chapter One/Transcript',\n",
       " 'Ep. 2: Here There Be Gerblins - Chapter Two/Transcript',\n",
       " 'Ep. 3: Here There Be Gerblins - Chapter Three/Transcript',\n",
       " 'Ep. 4: Here There Be Gerblins - Chapter Four/Transcript',\n",
       " 'Ep. 5: Here There Be Gerblins - Chapter Five/Transcript',\n",
       " 'Ep. 6: Here There Be Gerblins - Chapter Six/Transcript',\n",
       " 'Ep. 7: Moonlighting - Chapter One/Transcript',\n",
       " 'Ep. 8: Moonlighting - Chapter Two/Transcript',\n",
       " 'Ep. 9: Moonlighting - Chapter Three/Transcript',\n",
       " 'Ep. 10: Murder on the Rockport Limited - Chapter One/Transcript',\n",
       " 'Ep. 11: Murder on the Rockport Limited - Chapter Two/Transcript',\n",
       " 'Ep. 12: Murder on the Rockport Limited - Chapter Three/Transcript',\n",
       " 'Ep. 13: Murder on the Rockport Limited - Chapter Four/Transcript',\n",
       " 'Ep. 14: Murder on the Rockport Limited - Chapter Five/Transcript',\n",
       " 'Ep. 15: Murder on the Rockport Limited - Chapter Six/Transcript',\n",
       " 'Ep. 16: Murder on the Rockport Limited - Chapter Seven/Transcript',\n",
       " 'Ep. 17: Lunar Interlude 1 - Carnival Chaos/Transcript',\n",
       " 'Ep. 18: Petals to the Metal - Chapter One/Transcript',\n",
       " 'Ep. 19: Petals to the Metal - Chapter Two/Transcript',\n",
       " 'Ep. 20: Petals to the Metal - Chapter Three/Transcript',\n",
       " 'Ep. 21: Petals to the Metal - Chapter Four/Transcript',\n",
       " 'Ep. 22: Petals to the Metal - Chapter Five/Transcript',\n",
       " 'Ep. 23: Petals to the Metal - Chapter Six/Transcript',\n",
       " 'Ep. 24: Petals to the Metal - Chapter Seven/Transcript',\n",
       " 'Ep. 25: Petals to the Metal - Chapter Eight/Transcript',\n",
       " 'Ep. 26: Petals to the Metal - Chapter Nine/Transcript',\n",
       " 'Ep. 27: Petals to the Metal - Chapter Ten/Transcript',\n",
       " 'Ep. 28: Lunar Interlude 2 - Internal Affairs/Transcript',\n",
       " 'Ep. 29: The Crystal Kingdom - Chapter One/Transcript',\n",
       " 'Ep. 30: The Crystal Kingdom - Chapter Two/Transcript',\n",
       " 'Ep. 31: The Crystal Kingdom - Chapter Three/Transcript',\n",
       " 'Ep. 32: The Crystal Kingdom - Chapter Four/Transcript',\n",
       " 'Ep. 33: The Crystal Kingdom - Chapter Five/Transcript',\n",
       " 'Ep. 34: The Crystal Kingdom - Chapter Six/Transcript',\n",
       " 'Ep. 35: The Crystal Kingdom - Chapter Seven/Transcript',\n",
       " 'Ep. 36: The Crystal Kingdom - Chapter Eight/Transcript',\n",
       " 'Ep. 37: The Crystal Kingdom - Chapter Nine/Transcript',\n",
       " 'Ep. 38: The Crystal Kingdom - Chapter Ten/Transcript',\n",
       " 'Ep. 39: The Crystal Kingdom - Chapter Eleven/Transcript',\n",
       " 'Ep. 40: Lunar Interlude III - Rest & Relaxation/Transcript',\n",
       " 'Ep. 41: The Eleventh Hour - Chapter One/Transcript',\n",
       " 'Ep. 42: The Eleventh Hour - Chapter Two/Transcript',\n",
       " 'Ep. 43: The Eleventh Hour - Chapter Three/Transcript',\n",
       " 'Ep. 44: The Eleventh Hour - Chapter Four/Transcript',\n",
       " 'Ep. 45: The Eleventh Hour - Chapter Five/Transcript',\n",
       " 'Ep. 46: The Eleventh Hour - Chapter Six/Transcript',\n",
       " 'Ep. 47: The Eleventh Hour - Chapter Seven/Transcript',\n",
       " 'Ep. 48: The Eleventh Hour - Chapter Eight/Transcript',\n",
       " 'Ep. 49: The Eleventh Hour - Chapter Nine/Transcript',\n",
       " 'Ep. 50: Lunar Interlude IV - The Calm Before The Storm/Transcript',\n",
       " 'Ep. 51: The Suffering Game - Chapter One/Transcript',\n",
       " 'Ep. 52: The Suffering Game - Chapter Two/Transcript',\n",
       " 'Ep. 53: The Suffering Game - Chapter Three/Transcript',\n",
       " 'Ep. 54: The Suffering Game - Chapter Four/Transcript',\n",
       " 'Ep. 55: The Suffering Game - Chapter Five/Transcript',\n",
       " 'Ep. 56: The Suffering Game - Chapter Six/Transcript',\n",
       " 'Ep. 57: The Suffering Game - Chapter Seven/Transcript',\n",
       " 'Ep. 58: Lunar Interlude V - Reunion Tour - Part One/Transcript',\n",
       " 'Ep. 59: Lunar Interlude V - Reunion Tour - Part Two/Transcript',\n",
       " 'Ep. 60: The Stolen Century - Chapter One/Transcript',\n",
       " 'Ep. 61: The Stolen Century - Chapter Two/Transcript',\n",
       " 'Ep. 62: The Stolen Century - Chapter Three/Transcript',\n",
       " 'Ep. 63: The Stolen Century - Chapter Four/Transcript',\n",
       " 'Ep. 64: The Stolen Century - Chapter Five/Transcript',\n",
       " 'Ep. 65: The Stolen Century - Chapter Six/Transcript',\n",
       " 'Ep. 66: The Stolen Century - Chapter Seven/transcript',\n",
       " 'Ep. 67: Story and Song - Finale, Part One/Transcript',\n",
       " 'Ep. 68: Story and Song - Finale, Part Two/Transcript',\n",
       " 'Ep. 69: Story and Song - Finale, Part Three/Transcript']"
      ]
     },
     "execution_count": 86,
     "metadata": {},
     "output_type": "execute_result"
    }
   ],
   "source": [
    "balance_titles"
   ]
  },
  {
   "cell_type": "code",
   "execution_count": 72,
   "metadata": {},
   "outputs": [],
   "source": [
    "ep1_page = requests.get(\"https://theadventurezone.fandom.com/\" + all_balance_links[-1])"
   ]
  },
  {
   "cell_type": "code",
   "execution_count": 73,
   "metadata": {},
   "outputs": [],
   "source": [
    "ep1_soup = BeautifulSoup(ep1_page.content)"
   ]
  },
  {
   "cell_type": "code",
   "execution_count": 80,
   "metadata": {},
   "outputs": [],
   "source": [
    "l = ep1_soup.find_all(\"p\")"
   ]
  },
  {
   "cell_type": "code",
   "execution_count": 84,
   "metadata": {},
   "outputs": [
    {
     "data": {
      "text/plain": [
       "<a class=\"category-page__member-link\" href=\"/wiki/The_Adventure_Zone_Presents:_The_Live_Boston_Stunt_Spectacular/Transcript\" title=\"The Adventure Zone Presents: The Live Boston Stunt Spectacular/Transcript\">The Adventure Zone Presents: The Live Boston Stunt Spectacular/Transcript</a>"
      ]
     },
     "execution_count": 84,
     "metadata": {},
     "output_type": "execute_result"
    }
   ],
   "source": [
    "balance_bonus_eps[0]"
   ]
  },
  {
   "cell_type": "code",
   "execution_count": null,
   "metadata": {},
   "outputs": [],
   "source": []
  }
 ],
 "metadata": {
  "kernelspec": {
   "display_name": "Python 3",
   "language": "python",
   "name": "python3"
  },
  "language_info": {
   "codemirror_mode": {
    "name": "ipython",
    "version": 3
   },
   "file_extension": ".py",
   "mimetype": "text/x-python",
   "name": "python",
   "nbconvert_exporter": "python",
   "pygments_lexer": "ipython3",
   "version": "3.7.3"
  }
 },
 "nbformat": 4,
 "nbformat_minor": 2
}
